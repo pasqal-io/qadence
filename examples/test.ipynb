{
 "cells": [
  {
   "cell_type": "code",
   "execution_count": 1,
   "metadata": {},
   "outputs": [],
   "source": [
    "from qadence import kron,feature_map,hea, QuantumCircuit,hamiltonian_factory,QNN,Z\n",
    "from qadence.constructors.hamiltonians import ising_hamiltonian\n",
    "from qadence.utils import block_to_mathematical_expression\n",
    "\n",
    "n_qubits, depth = 2, 4\n",
    "fm = kron(\n",
    "    feature_map(1, support=(0,), param=\"x\"),\n",
    "    feature_map(1, support=(1,), param=\"y\")\n",
    ")\n",
    "ansatz = hea(n_qubits=n_qubits, depth=depth)\n",
    "circuit = QuantumCircuit(n_qubits, fm, ansatz)\n",
    "\n",
    "\n",
    "# initialize and use the model\n",
    "qnn = QNN(circuit, ising_hamiltonian(2), inputs=[\"x\", \"y\"])"
   ]
  },
  {
   "cell_type": "code",
   "execution_count": 2,
   "metadata": {},
   "outputs": [
    {
     "data": {
      "text/plain": [
       "['((Z(0) + Z(1) + (Z(0) ⊗ Z(1))) + (X(0) + X(1)))']"
      ]
     },
     "execution_count": 2,
     "metadata": {},
     "output_type": "execute_result"
    }
   ],
   "source": [
    "[block_to_mathematical_expression(obs.original) for obs in qnn._observable]"
   ]
  },
  {
   "cell_type": "code",
   "execution_count": 3,
   "metadata": {},
   "outputs": [],
   "source": [
    "# the desidered output:\n",
    "# [ising_hamiltonian, '((Z(0) + Z(1) + (Z(0) ⊗ Z(1))) + (X(0) + X(1)))']"
   ]
  },
  {
   "cell_type": "code",
   "execution_count": null,
   "metadata": {},
   "outputs": [],
   "source": []
  }
 ],
 "metadata": {
  "kernelspec": {
   "display_name": "qadence",
   "language": "python",
   "name": "python3"
  },
  "language_info": {
   "codemirror_mode": {
    "name": "ipython",
    "version": 3
   },
   "file_extension": ".py",
   "mimetype": "text/x-python",
   "name": "python",
   "nbconvert_exporter": "python",
   "pygments_lexer": "ipython3",
   "version": "3.10.4"
  }
 },
 "nbformat": 4,
 "nbformat_minor": 2
}
