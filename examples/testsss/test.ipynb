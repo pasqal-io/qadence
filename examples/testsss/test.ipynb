{
 "cells": [
  {
   "cell_type": "code",
   "execution_count": 1,
   "metadata": {},
   "outputs": [
    {
     "name": "stdout",
     "output_type": "stream",
     "text": [
      "LaplaceLeft(n_data_samples=0, pert_data=0.0, pin_memory=False, _default_batch_sizes={'pde': 100, 'left': 20, 'bottom': 20, 'right': 20, 'top': 20, 'data': 0}, x_min=0.0, x_max=1.0, y_min=0.0, y_max=1.0, solution_bounds=(0.0, 1.0), u0=<function LaplaceLeft.<lambda> at 0x31dad8ee0>, u0_args={}, relative_tolerance_on_right_bc=0.01)\n"
     ]
    }
   ],
   "source": [
    "# # Flow equations library: Laplace equation\n",
    "# This notebook demonstrates how to use the Flow equations library.\n",
    "# We will solve the Laplace equation:\n",
    "# $$\n",
    "# \\frac{d^2u}{dx^2}+\\frac{d^2u}{dy^2}=0,\\\\\n",
    "# u(0,\\, y)=\\sin(\\pi y),\\\\\n",
    "# u(x,\\, 0)=0,\\\\\n",
    "# u(L,\\, y)=0,\\\\\n",
    "# u(x,\\, H)=0,\n",
    "# $$\n",
    "# First, we will build the problem using Flow's SymPy interface and then skip it altogether\n",
    "# by using the same equation available in `flow.prefabs`, together with other ODEs/PDEs.\n",
    "\n",
    "from __future__ import annotations\n",
    "\n",
    "from itertools import product\n",
    "\n",
    "import matplotlib.pyplot as plt\n",
    "import numpy as np\n",
    "import sympy\n",
    "import torch\n",
    "from pathlib import Path\n",
    "from sympy import Eq, Function, symbols\n",
    "\n",
    "from flow import PINN\n",
    "from flow.data import dictdataloader\n",
    "from flow.geometry import Line2D, Point2D, Rectangle\n",
    "from flow.models import MLP\n",
    "from flow.prefabs import LaplaceLeft as Laplace\n",
    "from flow.prefabs.visualise import contourf\n",
    "from flow.terms import EqTerm\n",
    "from flow.train import TrainConfig, train\n",
    "from flow.utils.random import set_all_seeds\n",
    "\n",
    "\n",
    "\n",
    "\n",
    "# With prefabs\n",
    "# Equation definition\n",
    "# We can also optionally specify whether we want supervised data and if we want them perturbed\n",
    "# with a Gaussian noise amplitude.\n",
    "# Additionally, one can also specify the bounds of the expected solution,\n",
    "# thus helping us scale the output to match that range.\n",
    "# Let us say, we expect the solution to be bounded between $(0, 1)$,\n",
    "# we can specify that using the `solution_bounds` argument.\n",
    "data = False\n",
    "if data:\n",
    "    de = Laplace(n_data_samples=500, pert_data=0.1, solution_bounds=(0, 1))\n",
    "    \n",
    "else:\n",
    "    de = Laplace()\n",
    "\n",
    "\n",
    "# `de` can be printed out in a human readable and loggable form\n",
    "print(de)\n",
    "\n",
    "\n",
    "\n",
    "# Flow problem definition\n",
    "problem = de.flow_problem\n",
    "\n",
    "# Data loader\n",
    "batch_sizes = {\n",
    "    \"pde\": 100,\n",
    "    \"left\": 20,\n",
    "    \"bottom\": 20,\n",
    "    \"right\": 20,\n",
    "    \"top\": 20,\n",
    "}\n",
    "\n",
    "if data:\n",
    "    batch_sizes.update({\"data\": 5})\n",
    "\n",
    "dataloader = de.ddl(batch_sizes, geom_sampling=\"random_points\")\n",
    "\n",
    "\n",
    "# PINN model and training\n",
    "# Note that in the UFA definition below, as we specify the `act_fn` to be `tanh` function,\n",
    "# the output falls in the range $(-1, 1)$.\n",
    "# However, since we expect the solution to be bounded by $(0, 1)$,\n",
    "# we can further linearly transoform the output to better match the given range.\n",
    "# This would imply, that we should scale the output by 0.5 and shift it by 0.5.\n",
    "mlp_layers = (2, 20, 20, 1)\n",
    "lr = 1e-2\n",
    "\n",
    "output_shifting = 0.5 * (de.solution_bounds[1] + de.solution_bounds[0])\n",
    "output_scaling = (de.solution_bounds[1] - de.solution_bounds[0]) / (1.0 - (-1.0))\n",
    "\n",
    "\n"
   ]
  },
  {
   "cell_type": "code",
   "execution_count": 2,
   "metadata": {},
   "outputs": [],
   "source": [
    "\n",
    "from qadence.draw import html_string # markdown-exec: hide\n",
    "\n",
    "from qadence import BasisSet, chain, create_fm_blocks, FeatureMapConfig, ReuploadScaling\n",
    "\n",
    "fm_config = FeatureMapConfig(\n",
    "    num_features=2,\n",
    "    inputs = [\"x\", \"y\"],\n",
    "    basis_set=BasisSet.CHEBYSHEV,\n",
    "    reupload_scaling=ReuploadScaling.TOWER,\n",
    "    feature_range={\n",
    "        \"x\": (-1.0, 1.0),\n",
    "        \"y\": (0.0, 1.0),\n",
    "    },\n",
    ")\n",
    "\n",
    "fm_blocks = create_fm_blocks(register=4, config=fm_config)\n",
    "feature_map = chain(*fm_blocks)\n",
    "\n",
    "from qadence import AnsatzConfig, AnsatzType, create_ansatz, Strategy\n",
    "\n",
    "ansatz_config = AnsatzConfig(\n",
    "    depth=1,\n",
    "    ansatz_type=AnsatzType.HEA,\n",
    "    ansatz_strategy=Strategy.DIGITAL,\n",
    ")\n",
    "\n",
    "ansatz = create_ansatz(register=4, config=ansatz_config)\n",
    "\n",
    "\n",
    "\n"
   ]
  },
  {
   "cell_type": "code",
   "execution_count": null,
   "metadata": {},
   "outputs": [
    {
     "ename": "TypeError",
     "evalue": "Please use a custom interaction function signed with two integer parameters.",
     "output_type": "error",
     "traceback": [
      "\u001b[0;31m---------------------------------------------------------------------------\u001b[0m",
      "\u001b[0;31mTypeError\u001b[0m                                 Traceback (most recent call last)",
      "File \u001b[0;32m~/pasqal_2024/gitlab/qadence/qadence/constructors/hamiltonians.py:128\u001b[0m, in \u001b[0;36mhamiltonian_factory\u001b[0;34m(register, interaction, detuning, interaction_strength, detuning_strength, random_strength, use_all_node_pairs)\u001b[0m\n\u001b[1;32m    127\u001b[0m \u001b[38;5;28;01mtry\u001b[39;00m:\n\u001b[0;32m--> 128\u001b[0m     \u001b[38;5;28;01mif\u001b[39;00m \u001b[38;5;129;01mnot\u001b[39;00m block_is_qubit_hamiltonian(\u001b[43minteraction\u001b[49m\u001b[43m(\u001b[49m\u001b[38;5;241;43m0\u001b[39;49m\u001b[43m,\u001b[49m\u001b[43m \u001b[49m\u001b[38;5;241;43m1\u001b[39;49m\u001b[43m)\u001b[49m):\n\u001b[1;32m    129\u001b[0m         \u001b[38;5;28;01mraise\u001b[39;00m \u001b[38;5;167;01mValueError\u001b[39;00m(\u001b[38;5;124m\"\u001b[39m\u001b[38;5;124mCustom interactions must be composed of Pauli operators.\u001b[39m\u001b[38;5;124m\"\u001b[39m)\n",
      "Cell \u001b[0;32mIn[17], line 4\u001b[0m, in \u001b[0;36mcustom_int\u001b[0;34m(i, j)\u001b[0m\n\u001b[1;32m      3\u001b[0m \u001b[38;5;28;01mdef\u001b[39;00m \u001b[38;5;21mcustom_int\u001b[39m(i: \u001b[38;5;28mint\u001b[39m, j: \u001b[38;5;28mint\u001b[39m):\n\u001b[0;32m----> 4\u001b[0m     \u001b[38;5;28;01mreturn\u001b[39;00m \u001b[43mX\u001b[49m\u001b[43m \u001b[49m\u001b[38;5;241;43m+\u001b[39;49m\u001b[43m \u001b[49m\u001b[43mZ\u001b[49m\u001b[38;5;241m+\u001b[39m Z(i)\u001b[38;5;129m@Z\u001b[39m(j)\n",
      "\u001b[0;31mTypeError\u001b[0m: unsupported operand type(s) for +: 'ABCMeta' and 'ABCMeta'",
      "\nDuring handling of the above exception, another exception occurred:\n",
      "\u001b[0;31mTypeError\u001b[0m                                 Traceback (most recent call last)",
      "Cell \u001b[0;32mIn[17], line 12\u001b[0m\n\u001b[1;32m      4\u001b[0m     \u001b[38;5;28;01mreturn\u001b[39;00m X \u001b[38;5;241m+\u001b[39m Z\u001b[38;5;241m+\u001b[39m Z(i)\u001b[38;5;129m@Z\u001b[39m(j)\n\u001b[1;32m      7\u001b[0m observable_config \u001b[38;5;241m=\u001b[39m ObservableConfig(\n\u001b[1;32m      8\u001b[0m     interaction\u001b[38;5;241m=\u001b[39mcustom_int,\n\u001b[1;32m      9\u001b[0m     shift\u001b[38;5;241m=\u001b[39m\u001b[38;5;241m0.5\u001b[39m,\n\u001b[1;32m     10\u001b[0m )\n\u001b[0;32m---> 12\u001b[0m observable \u001b[38;5;241m=\u001b[39m \u001b[43mcreate_observable\u001b[49m\u001b[43m(\u001b[49m\u001b[43mregister\u001b[49m\u001b[38;5;241;43m=\u001b[39;49m\u001b[38;5;241;43m4\u001b[39;49m\u001b[43m,\u001b[49m\u001b[43m \u001b[49m\u001b[43mconfig\u001b[49m\u001b[38;5;241;43m=\u001b[39;49m\u001b[43mobservable_config\u001b[49m\u001b[43m)\u001b[49m\n\u001b[1;32m     14\u001b[0m \u001b[38;5;28mprint\u001b[39m(observable) \u001b[38;5;66;03m# markdown-exec: hide\u001b[39;00m\n",
      "File \u001b[0;32m~/pasqal_2024/gitlab/qadence/qadence/ml_tools/constructors.py:743\u001b[0m, in \u001b[0;36mcreate_observable\u001b[0;34m(register, config)\u001b[0m\n\u001b[1;32m    740\u001b[0m     config\u001b[38;5;241m.\u001b[39mscale, config\u001b[38;5;241m.\u001b[39mshift \u001b[38;5;241m=\u001b[39m ObservableTransformMap[config\u001b[38;5;241m.\u001b[39mtransformation_type](config\u001b[38;5;241m.\u001b[39mdetuning, config\u001b[38;5;241m.\u001b[39mscale, config\u001b[38;5;241m.\u001b[39mshift)  \u001b[38;5;66;03m# type: ignore[index]\u001b[39;00m\n\u001b[1;32m    742\u001b[0m shifting_term: AbstractBlock \u001b[38;5;241m=\u001b[39m config\u001b[38;5;241m.\u001b[39mshift \u001b[38;5;241m*\u001b[39m _global_identity(register)  \u001b[38;5;66;03m# type: ignore[operator]\u001b[39;00m\n\u001b[0;32m--> 743\u001b[0m detuning_hamiltonian: AbstractBlock \u001b[38;5;241m=\u001b[39m config\u001b[38;5;241m.\u001b[39mscale \u001b[38;5;241m*\u001b[39m \u001b[43mhamiltonian_factory\u001b[49m\u001b[43m(\u001b[49m\u001b[43m  \u001b[49m\u001b[38;5;66;43;03m# type: ignore[operator]\u001b[39;49;00m\n\u001b[1;32m    744\u001b[0m \u001b[43m    \u001b[49m\u001b[43mregister\u001b[49m\u001b[38;5;241;43m=\u001b[39;49m\u001b[43mregister\u001b[49m\u001b[43m,\u001b[49m\n\u001b[1;32m    745\u001b[0m \u001b[43m    \u001b[49m\u001b[43minteraction\u001b[49m\u001b[38;5;241;43m=\u001b[39;49m\u001b[43mconfig\u001b[49m\u001b[38;5;241;43m.\u001b[39;49m\u001b[43minteraction\u001b[49m\u001b[43m,\u001b[49m\n\u001b[1;32m    746\u001b[0m \u001b[43m    \u001b[49m\u001b[43mdetuning\u001b[49m\u001b[38;5;241;43m=\u001b[39;49m\u001b[43mconfig\u001b[49m\u001b[38;5;241;43m.\u001b[39;49m\u001b[43mdetuning\u001b[49m\u001b[43m,\u001b[49m\n\u001b[1;32m    747\u001b[0m \u001b[43m\u001b[49m\u001b[43m)\u001b[49m\n\u001b[1;32m    748\u001b[0m \u001b[38;5;28;01mreturn\u001b[39;00m add(shifting_term, detuning_hamiltonian)\n",
      "File \u001b[0;32m~/pasqal_2024/gitlab/qadence/qadence/constructors/hamiltonians.py:131\u001b[0m, in \u001b[0;36mhamiltonian_factory\u001b[0;34m(register, interaction, detuning, interaction_strength, detuning_strength, random_strength, use_all_node_pairs)\u001b[0m\n\u001b[1;32m    129\u001b[0m             \u001b[38;5;28;01mraise\u001b[39;00m \u001b[38;5;167;01mValueError\u001b[39;00m(\u001b[38;5;124m\"\u001b[39m\u001b[38;5;124mCustom interactions must be composed of Pauli operators.\u001b[39m\u001b[38;5;124m\"\u001b[39m)\n\u001b[1;32m    130\u001b[0m     \u001b[38;5;28;01mexcept\u001b[39;00m \u001b[38;5;167;01mTypeError\u001b[39;00m:\n\u001b[0;32m--> 131\u001b[0m         \u001b[38;5;28;01mraise\u001b[39;00m \u001b[38;5;167;01mTypeError\u001b[39;00m(\n\u001b[1;32m    132\u001b[0m             \u001b[38;5;124m\"\u001b[39m\u001b[38;5;124mPlease use a custom interaction function signed with two integer parameters.\u001b[39m\u001b[38;5;124m\"\u001b[39m\n\u001b[1;32m    133\u001b[0m         )\n\u001b[1;32m    134\u001b[0m \u001b[38;5;28;01melse\u001b[39;00m:\n\u001b[1;32m    135\u001b[0m     int_fn \u001b[38;5;241m=\u001b[39m INTERACTION_DICT\u001b[38;5;241m.\u001b[39mget(interaction, \u001b[38;5;28;01mNone\u001b[39;00m)  \u001b[38;5;66;03m# type: ignore [arg-type]\u001b[39;00m\n",
      "\u001b[0;31mTypeError\u001b[0m: Please use a custom interaction function signed with two integer parameters."
     ]
    }
   ],
   "source": [
    "from qadence import ObservableConfig, Z, VariationalParameter,I,X,Interaction\n",
    "from qadence.ml_tools.constructors import create_observable\n",
    "def custom_int(i: int, j: int):\n",
    "    return X(i) + Z(i)+ Z(i)@Z(j)\n",
    "\n",
    "\n",
    "observable_config = ObservableConfig(\n",
    "    interaction=custom_int,\n",
    "    shift=0.5,\n",
    ")\n",
    "\n",
    "observable = create_observable(register=4, config=observable_config)\n",
    "\n",
    "print(observable) # markdown-exec: hide\n"
   ]
  },
  {
   "cell_type": "code",
   "execution_count": 4,
   "metadata": {},
   "outputs": [
    {
     "data": {
      "text/plain": [
       "====================================================================================================\n",
       "Layer (type:depth-idx)                                                      Param #\n",
       "====================================================================================================\n",
       "QNN                                                                         --\n",
       "├─ConvertedCircuit: 1-1                                                     --\n",
       "│    └─QuantumCircuit: 2-1                                                  --\n",
       "│    │    └─ModuleList: 3-1                                                 --\n",
       "├─ParameterDict: 1-2                                                        14\n",
       "====================================================================================================\n",
       "Total params: 14\n",
       "Trainable params: 12\n",
       "Non-trainable params: 2\n",
       "===================================================================================================="
      ]
     },
     "execution_count": 4,
     "metadata": {},
     "output_type": "execute_result"
    }
   ],
   "source": [
    "from qadence import BackendName, DiffMode, QNN\n",
    "\n",
    "ufa = QNN.from_configs(\n",
    "    register=4,\n",
    "    obs_config=observable_config,\n",
    "    fm_config=fm_config,\n",
    "    ansatz_config=ansatz_config,\n",
    "    backend=BackendName.PYQTORCH,\n",
    "    diff_mode=DiffMode.AD,\n",
    ")\n",
    "\n",
    "from torchinfo import summary\n",
    "summary(ufa)"
   ]
  },
  {
   "cell_type": "code",
   "execution_count": 5,
   "metadata": {},
   "outputs": [
    {
     "name": "stdout",
     "output_type": "stream",
     "text": [
      "Parameter: _params.theta_0, Shape: torch.Size([1])\n",
      "Parameter: _params.theta_1, Shape: torch.Size([1])\n",
      "Parameter: _params.theta_10, Shape: torch.Size([1])\n",
      "Parameter: _params.theta_11, Shape: torch.Size([1])\n",
      "Parameter: _params.theta_2, Shape: torch.Size([1])\n",
      "Parameter: _params.theta_3, Shape: torch.Size([1])\n",
      "Parameter: _params.theta_4, Shape: torch.Size([1])\n",
      "Parameter: _params.theta_5, Shape: torch.Size([1])\n",
      "Parameter: _params.theta_6, Shape: torch.Size([1])\n",
      "Parameter: _params.theta_7, Shape: torch.Size([1])\n",
      "Parameter: _params.theta_8, Shape: torch.Size([1])\n",
      "Parameter: _params.theta_9, Shape: torch.Size([1])\n",
      "<generator object Module.named_parameters at 0x31db72500>\n",
      "14\n"
     ]
    }
   ],
   "source": [
    "for name, param in ufa.named_parameters():\n",
    "    if param.requires_grad:\n",
    "        print(f\"Parameter: {name}, Shape: {param.shape}\")\n",
    "\n",
    "print(ufa.named_parameters())\n",
    "print(len(list(ufa.named_parameters())))\n"
   ]
  },
  {
   "cell_type": "code",
   "execution_count": 6,
   "metadata": {},
   "outputs": [
    {
     "ename": "NameError",
     "evalue": "name 'output_root_folder' is not defined",
     "output_type": "error",
     "traceback": [
      "\u001b[0;31m---------------------------------------------------------------------------\u001b[0m",
      "\u001b[0;31mNameError\u001b[0m                                 Traceback (most recent call last)",
      "Cell \u001b[0;32mIn[6], line 9\u001b[0m\n\u001b[1;32m      6\u001b[0m \u001b[38;5;66;03m# Training\u001b[39;00m\n\u001b[1;32m      7\u001b[0m max_iter \u001b[38;5;241m=\u001b[39m \u001b[38;5;241m10\u001b[39m\n\u001b[1;32m      8\u001b[0m config \u001b[38;5;241m=\u001b[39m TrainConfig(\n\u001b[0;32m----> 9\u001b[0m     max_iter, print_every\u001b[38;5;241m=\u001b[39m\u001b[38;5;241m200\u001b[39m, root_folder\u001b[38;5;241m=\u001b[39m\u001b[43moutput_root_folder\u001b[49m, create_subfolder_per_run\u001b[38;5;241m=\u001b[39m\u001b[38;5;28;01mTrue\u001b[39;00m\n\u001b[1;32m     10\u001b[0m )\n\u001b[1;32m     12\u001b[0m train(model, dataloader, optimizer, config)\n",
      "\u001b[0;31mNameError\u001b[0m: name 'output_root_folder' is not defined"
     ]
    }
   ],
   "source": [
    "optimizer = torch.optim.Adam(ufa.parameters(), lr, foreach=False)\n",
    "\n",
    "model = PINN(problem, ufa)\n",
    "\n",
    "\n",
    "# Training\n",
    "max_iter = 10\n",
    "config = TrainConfig(\n",
    "    max_iter, print_every=200, root_folder=output_root_folder, create_subfolder_per_run=True\n",
    ")\n",
    "\n",
    "train(model, dataloader, optimizer, config)\n",
    "\n"
   ]
  },
  {
   "cell_type": "code",
   "execution_count": 55,
   "metadata": {},
   "outputs": [
    {
     "data": {
      "text/plain": [
       "Text(0, 0.5, 'y')"
      ]
     },
     "execution_count": 55,
     "metadata": {},
     "output_type": "execute_result"
    },
    {
     "data": {
      "image/png": "[encoded data removed]",
      "text/plain": [
       "<Figure size 640x480 with 2 Axes>"
      ]
     },
     "metadata": {},
     "output_type": "display_data"
    }
   ],
   "source": [
    "# Contour plot\n",
    "# The benchmark solution is already included in `Laplace` and can be easily plotted\n",
    "fig, axs = plt.subplots(1, 2)\n",
    "contourf(axs[0], de, num_gridpoints_x1=100, num_gridpoints_x2=100)\n",
    "\n",
    "# If we specify a UFA, we can also plot its solution.\n",
    "contourf(axs[1], de, num_gridpoints_x1=100, num_gridpoints_x2=100, ufa=ufa)\n",
    "\n",
    "# decorating axes\n",
    "axs[0].set_title(\"Reference\")\n",
    "axs[0].set_xlabel(\"x\")\n",
    "axs[0].set_ylabel(\"y\")\n",
    "\n",
    "axs[1].set_title(\"UFA\")\n",
    "axs[1].set_xlabel(\"x\")\n",
    "axs[1].set_ylabel(\"y\")\n",
    "\n"
   ]
  },
  {
   "cell_type": "code",
   "execution_count": null,
   "metadata": {},
   "outputs": [],
   "source": []
  }
 ],
 "metadata": {
  "kernelspec": {
   "display_name": "qadence",
   "language": "python",
   "name": "python3"
  },
  "language_info": {
   "codemirror_mode": {
    "name": "ipython",
    "version": 3
   },
   "file_extension": ".py",
   "mimetype": "text/x-python",
   "name": "python",
   "nbconvert_exporter": "python",
   "pygments_lexer": "ipython3",
   "version": "3.10.4"
  }
 },
 "nbformat": 4,
 "nbformat_minor": 2
}
